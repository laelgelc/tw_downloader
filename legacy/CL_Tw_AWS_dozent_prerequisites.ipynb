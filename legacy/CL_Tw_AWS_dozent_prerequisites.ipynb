{
 "cells": [
  {
   "cell_type": "markdown",
   "id": "810d9f10-ec19-4b09-8f90-e983e460b319",
   "metadata": {},
   "source": [
    "<center>\n",
    "<img src=\"https://laelgelcpublic.s3.sa-east-1.amazonaws.com/lael_50_years_narrow_white.png.no_years.400px_96dpi.png\" width=\"300\" alt=\"LAEL 50 years logo\">\n",
    "<h3>APPLIED LINGUISTICS GRADUATE PROGRAMME (LAEL)</h3>\n",
    "</center>\n",
    "<hr>"
   ]
  },
  {
   "cell_type": "markdown",
   "id": "888c2c96-2fc3-4a1a-995b-c388036a2a15",
   "metadata": {},
   "source": [
    "# 'The Twitter Stream Grab' download and storage - Prerequisites"
   ]
  },
  {
   "cell_type": "markdown",
   "id": "3031e2b4-8cff-461b-9807-aebbadad1543",
   "metadata": {},
   "source": [
    "## EC2 instance specifications"
   ]
  },
  {
   "cell_type": "markdown",
   "id": "451bf5b5-5a7f-4a27-a45a-09506a134b0b",
   "metadata": {},
   "source": [
    "- Availability Zone: South America (São Paulo) - sa-east-1\n",
    "- Name and tags: 'tw_aws_dozent' or 'tw_aws_pysmartdl'\n",
    "- Application and OS Images (Amazon Machine Image):\n",
    "  - Ubuntu Server 22.04 LTS (HVM), SSD Volume Type\n",
    "    - Canonical, Ubuntu, 22.04 LTS, amd64 jammy image build on 2023-09-19\n",
    "  -  ami-0b6c2d49148000cd5\n",
    "- Virtual server type (instance type): t2.micro\n",
    "- Firewall (security group): sg-0f991cbddad806903 (launch-wizard-1)\n",
    "- Storage (volumes): 1 volume(s) - 110 GiB\n",
    "- Key Pair:  AWS20171012Coda\n",
    "\n",
    "Note: The server should have its disk space sized to twice the size of the largest file to download plus 3 GiB for the operating system. In the case of this project, the largest file is 52.9 GiB.\n",
    " \n",
    "Free tier: In your first year includes 750 hours of t2.micro (or t3.micro in the Regions in which t2.micro is unavailable) instance usage on free tier AMIs per month, 30 GiB of EBS storage, 2 million IOs, 1 GB of snapshots, and 100 GB of bandwidth to the internet."
   ]
  },
  {
   "cell_type": "markdown",
   "id": "cae0574c-e8d9-49b6-be2e-276a847e91cb",
   "metadata": {},
   "source": [
    "### Assign IAM Role for S3 Admin access"
   ]
  },
  {
   "cell_type": "markdown",
   "id": "1ef0937b-00f4-4b42-ba01-1ffae4caa84c",
   "metadata": {},
   "source": [
    "- IAM Role: S3-Admin-Access\n",
    "  - The access is given by attaching the role 'S3-Admin-Access' to the EC2 instance via the AWS Console"
   ]
  },
  {
   "cell_type": "markdown",
   "id": "7a9c2af7-9fc1-4f51-a4f5-2ed915b93039",
   "metadata": {},
   "source": [
    "## Setting up an EC2 instance with 'dozent'"
   ]
  },
  {
   "cell_type": "markdown",
   "id": "bd7f46a6-aa4c-4169-b159-11614daea5ef",
   "metadata": {},
   "source": [
    "### Updating and upgrading"
   ]
  },
  {
   "cell_type": "code",
   "execution_count": null,
   "id": "f35d2454-fba7-49af-8f46-1aee927a1bb8",
   "metadata": {},
   "outputs": [],
   "source": [
    "Welcome to Ubuntu 22.04.3 LTS (GNU/Linux 6.2.0-1012-aws x86_64)\n",
    "\n",
    " * Documentation:  https://help.ubuntu.com\n",
    " * Management:     https://landscape.canonical.com\n",
    " * Support:        https://ubuntu.com/advantage\n",
    "\n",
    "  System information as of Fri Nov  3 23:15:22 UTC 2023\n",
    "\n",
    "  System load:  0.0               Processes:             97\n",
    "  Usage of /:   5.4% of 28.89GB   Users logged in:       0\n",
    "  Memory usage: 21%               IPv4 address for eth0: 172.31.41.6\n",
    "  Swap usage:   0%\n",
    "\n",
    "Expanded Security Maintenance for Applications is not enabled.\n",
    "\n",
    "0 updates can be applied immediately.\n",
    "\n",
    "Enable ESM Apps to receive additional future security updates.\n",
    "See https://ubuntu.com/esm or run: sudo pro status\n",
    "\n",
    "\n",
    "The list of available updates is more than a week old.\n",
    "To check for new updates run: sudo apt update\n",
    "\n",
    "\n",
    "The programs included with the Ubuntu system are free software;\n",
    "the exact distribution terms for each program are described in the\n",
    "individual files in /usr/share/doc/*/copyright.\n",
    "\n",
    "Ubuntu comes with ABSOLUTELY NO WARRANTY, to the extent permitted by\n",
    "applicable law.\n",
    "\n",
    "To run a command as administrator (user \"root\"), use \"sudo <command>\".\n",
    "See \"man sudo_root\" for details.\n",
    "\n",
    "ubuntu@ip-172-31-41-6:~$ sudo apt update\n",
    "<omitted>\n",
    "ubuntu@ip-172-31-41-6:~$ sudo apt upgrade -y\n",
    "<omitted>"
   ]
  },
  {
   "cell_type": "markdown",
   "id": "0390bbac-f3cf-41e5-903b-4b6bcd654bf5",
   "metadata": {},
   "source": [
    "### Restart the EC2 instance"
   ]
  },
  {
   "cell_type": "markdown",
   "id": "f22b1d8f-df07-4138-a48b-8ac2f7296158",
   "metadata": {},
   "source": [
    "### Checking Python3 version and installing pip"
   ]
  },
  {
   "cell_type": "code",
   "execution_count": null,
   "id": "d9ddd1b9-3800-4669-9d63-585fc12f4cfb",
   "metadata": {},
   "outputs": [],
   "source": [
    "ubuntu@ip-172-31-41-6:~$ python3 -V\n",
    "Python 3.10.12\n",
    "ubuntu@ip-172-31-41-6:~$ pip3 --version\n",
    "Command 'pip3' not found, but can be installed with:\n",
    "sudo apt install python3-pip\n",
    "ubuntu@ip-172-31-41-6:~$ sudo apt install python3-pip\n",
    "<omitted>"
   ]
  },
  {
   "cell_type": "markdown",
   "id": "27b6cd66-5d42-4636-941e-d6bd43d2a5af",
   "metadata": {},
   "source": [
    "### Installing AWS CLI"
   ]
  },
  {
   "cell_type": "code",
   "execution_count": null,
   "id": "543ec56b-883b-4223-aadd-d215a6b73e11",
   "metadata": {},
   "outputs": [],
   "source": [
    "ubuntu@ip-172-31-41-6:~$ sudo apt install awscli\n",
    "<omitted>"
   ]
  },
  {
   "cell_type": "markdown",
   "id": "276d8b43-6136-4ee2-bac1-952b35b89e1e",
   "metadata": {},
   "source": [
    "### Installing 'venv'"
   ]
  },
  {
   "cell_type": "code",
   "execution_count": null,
   "id": "335f5e2b-e202-42d3-86d8-cd943c89895a",
   "metadata": {},
   "outputs": [],
   "source": [
    "ubuntu@ip-172-31-41-6:~$ sudo apt install python3-venv\n",
    "<omitted>"
   ]
  },
  {
   "cell_type": "markdown",
   "id": "48fe6c92-0b9e-4f74-890f-b9f2ec0f8382",
   "metadata": {},
   "source": [
    "### Creating the 'my_env' Python environment"
   ]
  },
  {
   "cell_type": "code",
   "execution_count": null,
   "id": "ec690968-bb54-41da-93a1-51c29fda25f7",
   "metadata": {},
   "outputs": [],
   "source": [
    "ubuntu@ip-172-31-41-6:~$ python3 -m venv my_env\n",
    "ubuntu@ip-172-31-41-6:~$ ls -la\n",
    "total 36\n",
    "drwxr-x--- 5 ubuntu ubuntu 4096 Nov  4 00:06 .\n",
    "drwxr-xr-x 3 root   root   4096 Nov  3 23:08 ..\n",
    "-rw------- 1 ubuntu ubuntu   74 Nov  3 23:31 .bash_history\n",
    "-rw-r--r-- 1 ubuntu ubuntu  220 Jan  6  2022 .bash_logout\n",
    "-rw-r--r-- 1 ubuntu ubuntu 3771 Jan  6  2022 .bashrc\n",
    "drwx------ 2 ubuntu ubuntu 4096 Nov  3 23:15 .cache\n",
    "-rw-r--r-- 1 ubuntu ubuntu  807 Jan  6  2022 .profile\n",
    "drwx------ 2 ubuntu ubuntu 4096 Nov  3 23:08 .ssh\n",
    "-rw-r--r-- 1 ubuntu ubuntu    0 Nov  3 23:18 .sudo_as_admin_successful\n",
    "drwxrwxr-x 5 ubuntu ubuntu 4096 Nov  4 00:06 my_env\n",
    "(my_env) ubuntu@ip-172-31-41-6:~/my_env$ "
   ]
  },
  {
   "cell_type": "markdown",
   "id": "ea0495d4-8e11-4eb4-b3b7-3bb2dbc865f6",
   "metadata": {},
   "source": [
    "### Activating the 'my_env' Python environment"
   ]
  },
  {
   "cell_type": "code",
   "execution_count": null,
   "id": "cd9c178b-dbbc-4667-8951-ba415badc1c2",
   "metadata": {},
   "outputs": [],
   "source": [
    "ubuntu@ip-172-31-41-6:~$ cd my_env\n",
    "ubuntu@ip-172-31-41-6:~/my_env$ ls -la\n",
    "total 24\n",
    "drwxrwxr-x 5 ubuntu ubuntu 4096 Nov  4 00:06 .\n",
    "drwxr-x--- 5 ubuntu ubuntu 4096 Nov  4 00:06 ..\n",
    "drwxrwxr-x 2 ubuntu ubuntu 4096 Nov  4 00:06 bin\n",
    "drwxrwxr-x 2 ubuntu ubuntu 4096 Nov  4 00:06 include\n",
    "drwxrwxr-x 3 ubuntu ubuntu 4096 Nov  4 00:06 lib\n",
    "lrwxrwxrwx 1 ubuntu ubuntu    3 Nov  4 00:06 lib64 -> lib\n",
    "-rw-rw-r-- 1 ubuntu ubuntu   71 Nov  4 00:06 pyvenv.cfg\n",
    "ubuntu@ip-172-31-41-6:~/my_env$ source bin/activate\n",
    "(my_env) ubuntu@ip-172-31-41-6:~/my_env$ pip list\n",
    "Package    Version\n",
    "---------- -------\n",
    "pip        22.0.2\n",
    "setuptools 59.6.0\n",
    "(my_env) ubuntu@ip-172-31-41-6:~/my_env$ "
   ]
  },
  {
   "cell_type": "markdown",
   "id": "8d73c795-cc8b-4f39-b809-6dcdc0ec31ad",
   "metadata": {},
   "source": [
    "### Installing 'pandas'"
   ]
  },
  {
   "cell_type": "code",
   "execution_count": null,
   "id": "4e419439-121e-423a-964d-8b910ddffebb",
   "metadata": {},
   "outputs": [],
   "source": [
    "(my_env) ubuntu@ip-172-31-41-6:~/my_env$ pip install pandas\n",
    "<omitted>"
   ]
  },
  {
   "cell_type": "markdown",
   "id": "ee57d3d3-568f-424c-b03b-1f67eae62d3c",
   "metadata": {},
   "source": [
    "### Installing 'dozent'"
   ]
  },
  {
   "cell_type": "code",
   "execution_count": null,
   "id": "f9952d54-77f7-44f4-bbb9-74fa85683866",
   "metadata": {},
   "outputs": [],
   "source": [
    "(my_env) ubuntu@ip-172-31-41-6:~/my_env$ pip install dozent\n",
    "<omitted>\n",
    "(my_env) ubuntu@ip-172-31-41-6:~/my_env$ pip list\n",
    "Package            Version\n",
    "------------------ ------------\n",
    "appdirs            1.4.4\n",
    "aria2p             0.11.3\n",
    "certifi            2023.7.22\n",
    "charset-normalizer 3.3.2\n",
    "dozent             1.0.1\n",
    "exceptiongroup     1.1.3\n",
    "humanize           4.8.0\n",
    "idna               3.4\n",
    "iniconfig          2.0.0\n",
    "loguru             0.7.2\n",
    "numpy              1.26.1\n",
    "packaging          23.2\n",
    "pandas             2.1.2\n",
    "pip                22.0.2\n",
    "pluggy             1.3.0\n",
    "pyfiglet           1.0.2\n",
    "pySmartDL          1.3.4\n",
    "pytest             7.4.3\n",
    "python-dateutil    2.8.2\n",
    "pytz               2023.3.post1\n",
    "requests           2.31.0\n",
    "setuptools         59.6.0\n",
    "six                1.16.0\n",
    "toml               0.10.2\n",
    "tomli              2.0.1\n",
    "tzdata             2023.3\n",
    "urllib3            2.0.7\n",
    "websocket-client   1.6.4\n",
    "(my_env) ubuntu@ip-172-31-41-6:~/my_env$ "
   ]
  },
  {
   "cell_type": "markdown",
   "id": "51324f54-8bb4-41e4-bfce-8214e022d04a",
   "metadata": {},
   "source": [
    "### Installing the 'dozent' solution adaptation"
   ]
  },
  {
   "cell_type": "code",
   "execution_count": null,
   "id": "77655ec4-6014-4251-bd14-70f8e870413b",
   "metadata": {},
   "outputs": [],
   "source": [
    "(my_env) ubuntu@ip-172-31-41-6:~/my_env$ cd lib/*/*/dozent\n",
    "(my_env) ubuntu@ip-172-31-41-6:~/my_env/lib/python3.10/site-packages/dozent$ ls -la\n",
    "total 196\n",
    "drwxrwxr-x  3 ubuntu ubuntu   4096 Nov  4 00:14 .\n",
    "drwxrwxr-x 62 ubuntu ubuntu   4096 Nov  4 00:14 ..\n",
    "-rw-rw-r--  1 ubuntu ubuntu    162 Nov  4 00:14 __init__.py\n",
    "-rw-rw-r--  1 ubuntu ubuntu   2339 Nov  4 00:14 __main__.py\n",
    "drwxrwxr-x  2 ubuntu ubuntu   4096 Nov  4 00:14 __pycache__\n",
    "-rw-rw-r--  1 ubuntu ubuntu    817 Nov  4 00:14 catch_thread_exceptions.py\n",
    "-rw-rw-r--  1 ubuntu ubuntu   6142 Nov  4 00:14 downloader_tools.py\n",
    "-rw-rw-r--  1 ubuntu ubuntu   7139 Nov  4 00:14 dozent.py\n",
    "-rw-rw-r--  1 ubuntu ubuntu 156133 Nov  4 00:14 twitter-archive-stream-links.json\n",
    "(my_env) ubuntu@ip-172-31-41-6:~/my_env/lib/python3.10/site-packages/dozent$ mv dozent.py dozent.py.old\n",
    "(my_env) ubuntu@ip-172-31-41-6:~/my_env/lib/python3.10/site-packages/dozent$ mv twitter-archive-stream-links.json twitter-archive-stream-links.json.old\n",
    "(my_env) ubuntu@ip-172-31-41-6:~/my_env/lib/python3.10/site-packages/dozent$ aws s3 cp s3://laelgelctweets/dozent/dozent.py .\n",
    "download: s3://laelgelctweets/dozent/dozent.py to ./dozent.py \n",
    "(my_env) ubuntu@ip-172-31-41-6:~/my_env/lib/python3.10/site-packages/dozent$ aws s3 cp s3://laelgelctweets/dozent/twitter-archive-stream-links.json .\n",
    "download: s3://laelgelctweets/dozent/twitter-archive-stream-links.json to ./twitter-archive-stream-links.json\n",
    "(my_env) ubuntu@ip-172-31-41-6:~/my_env/lib/python3.10/site-packages/dozent$ cd\n",
    "(my_env) ubuntu@ip-172-31-41-6:~$ cd my_env\n",
    "(my_env) ubuntu@ip-172-31-41-6:~/my_env$ ls -la\n",
    "total 24\n",
    "drwxrwxr-x 5 ubuntu ubuntu 4096 Nov  4 00:06 .\n",
    "drwxr-x--- 5 ubuntu ubuntu 4096 Nov  4 00:06 ..\n",
    "drwxrwxr-x 2 ubuntu ubuntu 4096 Nov  4 00:14 bin\n",
    "drwxrwxr-x 2 ubuntu ubuntu 4096 Nov  4 00:06 include\n",
    "drwxrwxr-x 3 ubuntu ubuntu 4096 Nov  4 00:06 lib\n",
    "lrwxrwxrwx 1 ubuntu ubuntu    3 Nov  4 00:06 lib64 -> lib\n",
    "-rw-rw-r-- 1 ubuntu ubuntu   71 Nov  4 00:06 pyvenv.cfg\n",
    "(my_env) ubuntu@ip-172-31-41-6:~/my_env$ mkdir tw_aws_dozent\n",
    "(my_env) ubuntu@ip-172-31-41-6:~/my_env$ cd tw*\n",
    "(my_env) ubuntu@ip-172-31-41-6:~/my_env/tw_aws_dozent$ aws s3 cp s3://laelgelctweets/dozent/tw_aws_dozent.py .\n",
    "download: s3://laelgelctweets/dozent/tw_aws_dozent.py to ./tw_aws_dozent.py\n",
    "(my_env) ubuntu@ip-172-31-41-6:~/my_env/tw_aws_dozent$ aws s3 cp s3://laelgelctweets/dozent/tw_aws_dozent_date_list_test.csv .\n",
    "download: s3://laelgelctweets/dozent/tw_aws_dozent_date_list_test.csv to ./tw_aws_dozent_date_list_test.csv\n",
    "(my_env) ubuntu@ip-172-31-41-6:~/my_env/tw_aws_dozent$ aws s3 cp s3://laelgelctweets/dozent/tw_aws_dozent_date_list_2011.csv .\n",
    "download: s3://laelgelctweets/dozent/tw_aws_dozent_date_list_2011.csv to ./tw_aws_dozent_date_list_2011.csv\n",
    "(my_env) ubuntu@ip-172-31-41-6:~/my_env/tw_aws_dozent$ aws s3 cp s3://laelgelctweets/dozent/tw_aws_dozent_date_list_2012.csv .\n",
    "download: s3://laelgelctweets/dozent/tw_aws_dozent_date_list_2012.csv to ./tw_aws_dozent_date_list_2012.csv\n",
    "(my_env) ubuntu@ip-172-31-41-6:~/my_env/tw_aws_dozent$ aws s3 cp s3://laelgelctweets/dozent/tw_aws_dozent_date_list_2013.csv .\n",
    "download: s3://laelgelctweets/dozent/tw_aws_dozent_date_list_2013.csv to ./tw_aws_dozent_date_list_2013.csv\n",
    "(my_env) ubuntu@ip-172-31-41-6:~/my_env/tw_aws_dozent$ aws s3 cp s3://laelgelctweets/dozent/tw_aws_dozent_date_list_2014.csv .\n",
    "download: s3://laelgelctweets/dozent/tw_aws_dozent_date_list_2014.csv to ./tw_aws_dozent_date_list_2014.csv\n",
    "(my_env) ubuntu@ip-172-31-41-6:~/my_env/tw_aws_dozent$ aws s3 cp s3://laelgelctweets/dozent/tw_aws_dozent_date_list_2015.csv .\n",
    "download: s3://laelgelctweets/dozent/tw_aws_dozent_date_list_2015.csv to ./tw_aws_dozent_date_list_2015.csv\n",
    "(my_env) ubuntu@ip-172-31-41-6:~/my_env/tw_aws_dozent$ aws s3 cp s3://laelgelctweets/dozent/tw_aws_dozent_date_list_2016.csv .\n",
    "download: s3://laelgelctweets/dozent/tw_aws_dozent_date_list_2016.csv to ./tw_aws_dozent_date_list_2016.csv\n",
    "(my_env) ubuntu@ip-172-31-41-6:~/my_env/tw_aws_dozent$ aws s3 cp s3://laelgelctweets/dozent/tw_aws_dozent_date_list_2017.csv .\n",
    "download: s3://laelgelctweets/dozent/tw_aws_dozent_date_list_2017.csv to ./tw_aws_dozent_date_list_2017.csv\n",
    "(my_env) ubuntu@ip-172-31-41-6:~/my_env/tw_aws_dozent$ aws s3 cp s3://laelgelctweets/dozent/tw_aws_dozent_date_list_2018.csv .\n",
    "download: s3://laelgelctweets/dozent/tw_aws_dozent_date_list_2018.csv to ./tw_aws_dozent_date_list_2018.csv\n",
    "(my_env) ubuntu@ip-172-31-41-6:~/my_env/tw_aws_dozent$ aws s3 cp s3://laelgelctweets/dozent/tw_aws_dozent_date_list_2019.csv .\n",
    "download: s3://laelgelctweets/dozent/tw_aws_dozent_date_list_2019.csv to ./tw_aws_dozent_date_list_2019.csv\n",
    "(my_env) ubuntu@ip-172-31-41-6:~/my_env/tw_aws_dozent$ aws s3 cp s3://laelgelctweets/dozent/tw_aws_dozent_date_list_2020.csv .\n",
    "download: s3://laelgelctweets/dozent/tw_aws_dozent_date_list_2020.csv to ./tw_aws_dozent_date_list_2020.csv\n",
    "(my_env) ubuntu@ip-172-31-41-6:~/my_env/tw_aws_dozent$ aws s3 cp s3://laelgelctweets/dozent/tw_aws_dozent_date_list_2021.csv .\n",
    "download: s3://laelgelctweets/dozent/tw_aws_dozent_date_list_2021.csv to ./tw_aws_dozent_date_list_2021.csv\n",
    "(my_env) ubuntu@ip-172-31-41-6:~/my_env/tw_aws_dozent$ aws s3 cp s3://laelgelctweets/dozent/tw_aws_dozent_date_list_2022.csv .\n",
    "download: s3://laelgelctweets/dozent/tw_aws_dozent_date_list_2022.csv to ./tw_aws_dozent_date_list_2022.csv\n",
    "(my_env) ubuntu@ip-172-31-41-6:~/my_env/tw_aws_dozent$ aws s3 cp s3://laelgelctweets/dozent/tw_aws_dozent_date_list_2023.csv .\n",
    "download: s3://laelgelctweets/dozent/tw_aws_dozent_date_list_2023.csv to ./tw_aws_dozent_date_list_2023.csv\n",
    "(my_env) ubuntu@ip-172-31-41-6:~/my_env/tw_aws_dozent$ ls -la\n",
    "total 112\n",
    "drwxrwxr-x 2 ubuntu ubuntu 4096 Nov  4 00:31 .\n",
    "drwxrwxr-x 6 ubuntu ubuntu 4096 Nov  4 00:24 ..\n",
    "-rw-rw-r-- 1 ubuntu ubuntu  786 Nov  3 22:46 tw_aws_dozent.py\n",
    "-rw-rw-r-- 1 ubuntu ubuntu 1469 Nov  3 22:46 tw_aws_dozent_date_list_2011.csv\n",
    "-rw-rw-r-- 1 ubuntu ubuntu 4397 Nov  3 22:46 tw_aws_dozent_date_list_2012.csv\n",
    "-rw-rw-r-- 1 ubuntu ubuntu 4385 Nov  3 22:46 tw_aws_dozent_date_list_2013.csv\n",
    "-rw-rw-r-- 1 ubuntu ubuntu 4385 Nov  3 22:46 tw_aws_dozent_date_list_2014.csv\n",
    "-rw-rw-r-- 1 ubuntu ubuntu 4385 Nov  3 22:46 tw_aws_dozent_date_list_2015.csv\n",
    "-rw-rw-r-- 1 ubuntu ubuntu 4397 Nov  3 22:46 tw_aws_dozent_date_list_2016.csv\n",
    "-rw-rw-r-- 1 ubuntu ubuntu 4385 Nov  3 22:46 tw_aws_dozent_date_list_2017.csv\n",
    "-rw-rw-r-- 1 ubuntu ubuntu 4385 Nov  3 22:46 tw_aws_dozent_date_list_2018.csv\n",
    "-rw-rw-r-- 1 ubuntu ubuntu 4385 Nov  3 22:46 tw_aws_dozent_date_list_2019.csv\n",
    "-rw-rw-r-- 1 ubuntu ubuntu 4397 Nov  3 22:46 tw_aws_dozent_date_list_2020.csv\n",
    "-rw-rw-r-- 1 ubuntu ubuntu 4385 Nov  3 22:46 tw_aws_dozent_date_list_2021.csv\n",
    "-rw-rw-r-- 1 ubuntu ubuntu 4385 Nov  3 22:46 tw_aws_dozent_date_list_2022.csv\n",
    "-rw-rw-r-- 1 ubuntu ubuntu  377 Nov  3 22:46 tw_aws_dozent_date_list_2023.csv\n",
    "-rw-rw-r-- 1 ubuntu ubuntu  365 Nov  3 22:46 tw_aws_dozent_date_list_test.csv\n",
    "(my_env) ubuntu@ip-172-31-41-6:~/my_env/tw_aws_dozent$ "
   ]
  },
  {
   "cell_type": "markdown",
   "id": "aae03749-7a6b-4ae9-a720-5842b0f1bed8",
   "metadata": {},
   "source": [
    "### Testing 'tw_aws_dozent.py'"
   ]
  },
  {
   "cell_type": "code",
   "execution_count": null,
   "id": "a051fc22-57d8-4614-b3a6-5bf3dd2f7184",
   "metadata": {},
   "outputs": [],
   "source": [
    "(my_env) ubuntu@ip-172-31-41-6:~/my_env/tw_aws_dozent$ python tw_aws_dozent.py\n",
    "Processing 2011-09-01\n",
    "Queueing tweets download for NaN-09-2011\n",
    "\n",
    "> 1.69 GB / 1.69 GB @ 1.1 MB/s [####################] [ 100.00% ] 2 seconds left                                              \n",
    "Download Time: 0:06:05.024595\n",
    "upload: ../lib/python3.10/site-packages/data/twitter-json-scrape-2011-09.zip to s3://laelgelctweets/twitter-json-scrape-2011-09.zip\n",
    "Processing 2011-09-02\n",
    "\n",
    "\n",
    "Download Time: 0:00:00.008904\n",
    "Processing 2011-09-03\n",
    "\n",
    "\n",
    "Download Time: 0:00:00.005819\n",
    "Processing 2011-09-04\n",
    "\n",
    "\n",
    "Download Time: 0:00:00.005688\n",
    "Processing 2011-09-05\n",
    "\n",
    "\n",
    "Download Time: 0:00:00.005646\n",
    "Processing 2011-09-06\n",
    "\n",
    "\n",
    "Download Time: 0:00:00.005626\n",
    "Processing 2011-09-07\n",
    "\n",
    "\n",
    "Download Time: 0:00:00.005557\n",
    "Processing 2011-09-08\n",
    "\n",
    "\n",
    "Download Time: 0:00:00.005586\n",
    "Processing 2011-09-09\n",
    "\n",
    "\n",
    "Download Time: 0:00:00.005756\n",
    "Processing 2011-09-10\n",
    "\n",
    "\n",
    "Download Time: 0:00:00.005641\n",
    "Processing 2011-09-11\n",
    "\n",
    "\n",
    "Download Time: 0:00:00.005615\n",
    "Processing 2011-09-12\n",
    "\n",
    "\n",
    "Download Time: 0:00:00.005766\n",
    "Processing 2011-09-13\n",
    "\n",
    "\n",
    "Download Time: 0:00:00.005579\n",
    "Processing 2011-09-14\n",
    "\n",
    "\n",
    "Download Time: 0:00:00.005643\n",
    "Processing 2011-09-15\n",
    "\n",
    "\n",
    "Download Time: 0:00:00.005758\n",
    "Processing 2011-09-16\n",
    "\n",
    "\n",
    "Download Time: 0:00:00.005646\n",
    "Processing 2011-09-17\n",
    "\n",
    "\n",
    "Download Time: 0:00:00.005669\n",
    "Processing 2011-09-18\n",
    "\n",
    "\n",
    "Download Time: 0:00:00.005686\n",
    "Processing 2011-09-19\n",
    "\n",
    "\n",
    "Download Time: 0:00:00.005899\n",
    "Processing 2011-09-20\n",
    "\n",
    "\n",
    "Download Time: 0:00:00.005578\n",
    "Processing 2011-09-21\n",
    "\n",
    "\n",
    "Download Time: 0:00:00.005656\n",
    "Processing 2011-09-22\n",
    "\n",
    "\n",
    "Download Time: 0:00:00.005547\n",
    "Processing 2011-09-23\n",
    "\n",
    "\n",
    "Download Time: 0:00:00.005655\n",
    "Processing 2011-09-24\n",
    "\n",
    "\n",
    "Download Time: 0:00:00.005610\n",
    "Processing 2011-09-25\n",
    "\n",
    "\n",
    "Download Time: 0:00:00.005593\n",
    "Processing 2011-09-26\n",
    "\n",
    "\n",
    "Download Time: 0:00:00.005653\n",
    "Processing 2011-09-27\n",
    "Queueing tweets download for 27-09-2011\n",
    "\n",
    "> 70.53 MB / 70.53 MB @ 128.0 KB/s [####################] [ 100.00% ] 1 second left                                              \n",
    "Download Time: 0:01:51.863786\n",
    "upload: ../lib/python3.10/site-packages/data/twitter-stream-2011-09-27.zip to s3://laelgelctweets/twitter-stream-2011-09-27.zip\n",
    "Processing 2011-09-28\n",
    "Queueing tweets download for 28-09-2011\n",
    "\n",
    "> 550.23 MB / 550.23 MB @ 1.1 MB/s [####################] [ 100.00% ] 1 second left                                              \n",
    "Download Time: 0:02:01.623627\n",
    "upload: ../lib/python3.10/site-packages/data/twitter-stream-2011-09-28.zip to s3://laelgelctweets/twitter-stream-2011-09-28.zip\n",
    "Processing 2011-09-29\n",
    "Queueing tweets download for 29-09-2011\n",
    "\n",
    "> 551.08 MB / 551.08 MB @ 133.3 KB/s [####################] [ 100.00% ] 3 seconds left                                               \n",
    "Download Time: 0:15:05.183691\n",
    "upload: ../lib/python3.10/site-packages/data/twitter-stream-2011-09-29.zip to s3://laelgelctweets/twitter-stream-2011-09-29.zip\n",
    "Processing 2011-09-30\n",
    "Queueing tweets download for 30-09-2011\n",
    "\n",
    "> 556.67 MB / 556.67 MB @ 1.1 MB/s [####################] [ 100.00% ] 1 second left                                  \n",
    "Download Time: 0:01:55.747151\n",
    "upload: ../lib/python3.10/site-packages/data/twitter-stream-2011-09-30.zip to s3://laelgelctweets/twitter-stream-2011-09-30.zip\n",
    "(my_env) ubuntu@ip-172-31-41-6:~/my_env/tw_aws_dozent$ "
   ]
  },
  {
   "cell_type": "markdown",
   "id": "fc19cfed-0d3d-4864-abe4-3b10d2205a27",
   "metadata": {},
   "source": [
    "### Deactivating the Python environment"
   ]
  },
  {
   "cell_type": "markdown",
   "id": "d5a25580-f872-408d-81fb-82bbec615783",
   "metadata": {},
   "source": [
    "- When the processing is over, the Python environment should be deactivated"
   ]
  },
  {
   "cell_type": "code",
   "execution_count": null,
   "id": "e3c509ad-021e-4ec1-b942-b23d688a6703",
   "metadata": {},
   "outputs": [],
   "source": [
    "(my_env) ubuntu@ip-172-31-41-6:~/my_env/tw_aws_dozent$ deactivate\n",
    "ubuntu@ip-172-31-41-6:~/my_env/tw_aws_dozent$ "
   ]
  },
  {
   "cell_type": "markdown",
   "id": "dd730ed6-5dc6-47f2-954d-4e050ddf1d02",
   "metadata": {},
   "source": [
    "## Appendix A - Public read access can be configured at the bucket level via 'bucket policies'\n",
    "Reference: [Allow Public Read access to an AWS S3 Bucket](https://bobbyhadz.com/blog/aws-s3-allow-public-read-access)"
   ]
  }
 ],
 "metadata": {
  "kernelspec": {
   "display_name": "Python 3 (ipykernel)",
   "language": "python",
   "name": "python3"
  },
  "language_info": {
   "codemirror_mode": {
    "name": "ipython",
    "version": 3
   },
   "file_extension": ".py",
   "mimetype": "text/x-python",
   "name": "python",
   "nbconvert_exporter": "python",
   "pygments_lexer": "ipython3",
   "version": "3.11.8"
  }
 },
 "nbformat": 4,
 "nbformat_minor": 5
}
