{
 "cells": [
  {
   "cell_type": "markdown",
   "id": "810d9f10-ec19-4b09-8f90-e983e460b319",
   "metadata": {},
   "source": [
    "<center>\n",
    "<img src=\"https://laelgelcpublic.s3.sa-east-1.amazonaws.com/lael_50_years_narrow_white.png.no_years.400px_96dpi.png\" width=\"300\" alt=\"LAEL 50 years logo\">\n",
    "<h3>APPLIED LINGUISTICS GRADUATE PROGRAMME (LAEL)</h3>\n",
    "</center>\n",
    "<hr>"
   ]
  },
  {
   "cell_type": "markdown",
   "id": "888c2c96-2fc3-4a1a-995b-c388036a2a15",
   "metadata": {},
   "source": [
    "# 'The Twitter Stream Grab' download and storage - Proof of Concept"
   ]
  },
  {
   "cell_type": "markdown",
   "id": "7a9c2af7-9fc1-4f51-a4f5-2ed915b93039",
   "metadata": {},
   "source": [
    "## Setting up an EC2 instance with 'dozent'"
   ]
  },
  {
   "cell_type": "markdown",
   "id": "f22b1d8f-df07-4138-a48b-8ac2f7296158",
   "metadata": {},
   "source": [
    "### Checking Python3 version and installing pip"
   ]
  },
  {
   "cell_type": "code",
   "execution_count": null,
   "id": "1b4a8657-0245-4eaf-b11f-233891dc8849",
   "metadata": {},
   "outputs": [],
   "source": [
    "   ,     #_\n",
    "   ~\\_  ####_        Amazon Linux 2023\n",
    "  ~~  \\_#####\\\n",
    "  ~~     \\###|\n",
    "  ~~       \\#/ ___   https://aws.amazon.com/linux/amazon-linux-2023\n",
    "   ~~       V~' '->\n",
    "    ~~~         /\n",
    "      ~~._.   _/\n",
    "         _/ _/\n",
    "       _/m/'\n",
    "[ec2-user@ip-172-31-38-168 ~]$ python3 -V\n",
    "Python 3.9.16\n",
    "[ec2-user@ip-172-31-38-168 ~]$ pip3 --version\n",
    "-bash: pip3: command not found\n",
    "[ec2-user@ip-172-31-38-168 ~]$ sudo yum install python3-pip\n",
    "Last metadata expiration check: 0:13:37 ago on Tue Oct 10 19:39:44 2023.\n",
    "Dependencies resolved.\n",
    "=====================================================================================================================================================================\n",
    " Package                                   Architecture                    Version                                        Repository                            Size\n",
    "=====================================================================================================================================================================\n",
    "Installing:\n",
    " python3-pip                               noarch                          21.3.1-2.amzn2023.0.5                          amazonlinux                          1.8 M\n",
    "Installing weak dependencies:\n",
    " libxcrypt-compat                          x86_64                          4.4.33-7.amzn2023                              amazonlinux                           92 k\n",
    "\n",
    "Transaction Summary\n",
    "=====================================================================================================================================================================\n",
    "Install  2 Packages\n",
    "\n",
    "Total download size: 1.9 M\n",
    "Installed size: 11 M\n",
    "Is this ok [y/N]: y\n",
    "Downloading Packages:\n",
    "(1/2): libxcrypt-compat-4.4.33-7.amzn2023.x86_64.rpm                                                                                 1.3 MB/s |  92 kB     00:00    \n",
    "(2/2): python3-pip-21.3.1-2.amzn2023.0.5.noarch.rpm                                                                                   15 MB/s | 1.8 MB     00:00    \n",
    "---------------------------------------------------------------------------------------------------------------------------------------------------------------------\n",
    "Total                                                                                                                                9.9 MB/s | 1.9 MB     00:00     \n",
    "Running transaction check\n",
    "Transaction check succeeded.\n",
    "Running transaction test\n",
    "Transaction test succeeded.\n",
    "Running transaction\n",
    "  Preparing        :                                                                                                                                             1/1 \n",
    "  Installing       : libxcrypt-compat-4.4.33-7.amzn2023.x86_64                                                                                                   1/2 \n",
    "  Installing       : python3-pip-21.3.1-2.amzn2023.0.5.noarch                                                                                                    2/2 \n",
    "  Running scriptlet: python3-pip-21.3.1-2.amzn2023.0.5.noarch                                                                                                    2/2 \n",
    "  Verifying        : libxcrypt-compat-4.4.33-7.amzn2023.x86_64                                                                                                   1/2 \n",
    "  Verifying        : python3-pip-21.3.1-2.amzn2023.0.5.noarch                                                                                                    2/2 \n",
    "\n",
    "Installed:\n",
    "  libxcrypt-compat-4.4.33-7.amzn2023.x86_64                                         python3-pip-21.3.1-2.amzn2023.0.5.noarch                                        \n",
    "\n",
    "Complete!\n",
    "[ec2-user@ip-172-31-38-168 ~]$ "
   ]
  },
  {
   "cell_type": "markdown",
   "id": "48fe6c92-0b9e-4f74-890f-b9f2ec0f8382",
   "metadata": {},
   "source": [
    "### Creating the 'my_env' Python environment"
   ]
  },
  {
   "cell_type": "code",
   "execution_count": null,
   "id": "ec690968-bb54-41da-93a1-51c29fda25f7",
   "metadata": {},
   "outputs": [],
   "source": [
    "[ec2-user@ip-172-31-38-168 ~]$ mkdir environments\n",
    "[ec2-user@ip-172-31-38-168 ~]$ cd environments\n",
    "[ec2-user@ip-172-31-38-168 environments]$ python3 -m venv my_env\n",
    "[ec2-user@ip-172-31-38-168 environments]$ cd my_env\n",
    "[ec2-user@ip-172-31-38-168 my_env]$ source bin/activate\n",
    "(my_env) [ec2-user@ip-172-31-38-168 my_env]$ pip list\n",
    "Package    Version\n",
    "---------- -------\n",
    "pip        21.3.1\n",
    "setuptools 59.6.0\n",
    "WARNING: You are using pip version 21.3.1; however, version 23.2.1 is available.\n",
    "You should consider upgrading via the '/home/ec2-user/environments/my_env/bin/python3 -m pip install --upgrade pip' command.\n",
    "(my_env) [ec2-user@ip-172-31-38-168 my_env]$ python3 -m pip install --upgrade pip\n",
    "Requirement already satisfied: pip in ./lib/python3.9/site-packages (21.3.1)\n",
    "Collecting pip\n",
    "  Downloading pip-23.2.1-py3-none-any.whl (2.1 MB)\n",
    "     |████████████████████████████████| 2.1 MB 5.2 MB/s            \n",
    "Installing collected packages: pip\n",
    "  Attempting uninstall: pip\n",
    "    Found existing installation: pip 21.3.1\n",
    "    Uninstalling pip-21.3.1:\n",
    "      Successfully uninstalled pip-21.3.1\n",
    "Successfully installed pip-23.2.1\n",
    "(my_env) [ec2-user@ip-172-31-38-168 my_env]$ "
   ]
  },
  {
   "cell_type": "markdown",
   "id": "ee57d3d3-568f-424c-b03b-1f67eae62d3c",
   "metadata": {},
   "source": [
    "### Installing 'dozent'"
   ]
  },
  {
   "cell_type": "code",
   "execution_count": null,
   "id": "f9952d54-77f7-44f4-bbb9-74fa85683866",
   "metadata": {},
   "outputs": [],
   "source": [
    "(my_env) [ec2-user@ip-172-31-38-168 my_env]$ pip install dozent\n",
    "Collecting dozent\n",
    "  Downloading dozent-1.0.1-py3-none-any.whl (25 kB)\n",
    "Collecting pySmartDL (from dozent)\n",
    "  Downloading pySmartDL-1.3.4-py3-none-any.whl (20 kB)\n",
    "Collecting aria2p (from dozent)\n",
    "  Downloading aria2p-0.11.3-py3-none-any.whl (86 kB)\n",
    "     ━━━━━━━━━━━━━━━━━━━━━━━━━━━━━━━━━━━━━━━━ 86.7/86.7 kB 7.0 MB/s eta 0:00:00\n",
    "Collecting pytest (from dozent)\n",
    "  Obtaining dependency information for pytest from https://files.pythonhosted.org/packages/df/d0/e192c4275aecabf74faa1aacd75ef700091913236ec78b1a98f62a2412ee/pytest-7.4.2-py3-none-any.whl.metadata\n",
    "  Downloading pytest-7.4.2-py3-none-any.whl.metadata (7.9 kB)\n",
    "Collecting pyfiglet (from dozent)\n",
    "  Obtaining dependency information for pyfiglet from https://files.pythonhosted.org/packages/1a/03/bef6fff907e212d67a0003f8ea4819307bba91b2856074a0763dd483ccc4/pyfiglet-1.0.2-py3-none-any.whl.metadata\n",
    "  Downloading pyfiglet-1.0.2-py3-none-any.whl.metadata (7.1 kB)\n",
    "Collecting numpy (from dozent)\n",
    "  Obtaining dependency information for numpy from https://files.pythonhosted.org/packages/75/cd/7ae0f2cd3fc68aea6cfb2b7e523842e1fa953adb38efabc110d27ba6e423/numpy-1.26.0-cp39-cp39-manylinux_2_17_x86_64.manylinux2014_x86_64.whl.metadata\n",
    "  Downloading numpy-1.26.0-cp39-cp39-manylinux_2_17_x86_64.manylinux2014_x86_64.whl.metadata (58 kB)\n",
    "     ━━━━━━━━━━━━━━━━━━━━━━━━━━━━━━━━━━━━━━━━ 58.5/58.5 kB 8.0 MB/s eta 0:00:00\n",
    "Collecting humanize (from dozent)\n",
    "  Obtaining dependency information for humanize from https://files.pythonhosted.org/packages/4a/52/cccfc7a0d3bcf52cca6f6e1792786075df979346d638bf4cf5bc8bf2be3c/humanize-4.8.0-py3-none-any.whl.metadata\n",
    "  Downloading humanize-4.8.0-py3-none-any.whl.metadata (7.8 kB)\n",
    "Collecting appdirs>=1.4 (from aria2p->dozent)\n",
    "  Downloading appdirs-1.4.4-py2.py3-none-any.whl (9.6 kB)\n",
    "Collecting loguru>=0.5 (from aria2p->dozent)\n",
    "  Obtaining dependency information for loguru>=0.5 from https://files.pythonhosted.org/packages/03/0a/4f6fed21aa246c6b49b561ca55facacc2a44b87d65b8b92362a8e99ba202/loguru-0.7.2-py3-none-any.whl.metadata\n",
    "  Downloading loguru-0.7.2-py3-none-any.whl.metadata (23 kB)\n",
    "Collecting requests>=2.19 (from aria2p->dozent)\n",
    "  Obtaining dependency information for requests>=2.19 from https://files.pythonhosted.org/packages/70/8e/0e2d847013cb52cd35b38c009bb167a1a26b2ce6cd6965bf26b47bc0bf44/requests-2.31.0-py3-none-any.whl.metadata\n",
    "  Downloading requests-2.31.0-py3-none-any.whl.metadata (4.6 kB)\n",
    "Collecting toml>=0.10 (from aria2p->dozent)\n",
    "  Downloading toml-0.10.2-py2.py3-none-any.whl (16 kB)\n",
    "Collecting websocket-client>=0.58 (from aria2p->dozent)\n",
    "  Obtaining dependency information for websocket-client>=0.58 from https://files.pythonhosted.org/packages/c4/3c/1892ce394828c43d4f65248ebdee3854114266b75d1f5915cb211155ad7b/websocket_client-1.6.4-py3-none-any.whl.metadata\n",
    "  Downloading websocket_client-1.6.4-py3-none-any.whl.metadata (7.7 kB)\n",
    "Collecting iniconfig (from pytest->dozent)\n",
    "  Downloading iniconfig-2.0.0-py3-none-any.whl (5.9 kB)\n",
    "Collecting packaging (from pytest->dozent)\n",
    "  Obtaining dependency information for packaging from https://files.pythonhosted.org/packages/ec/1a/610693ac4ee14fcdf2d9bf3c493370e4f2ef7ae2e19217d7a237ff42367d/packaging-23.2-py3-none-any.whl.metadata\n",
    "  Downloading packaging-23.2-py3-none-any.whl.metadata (3.2 kB)\n",
    "Collecting pluggy<2.0,>=0.12 (from pytest->dozent)\n",
    "  Obtaining dependency information for pluggy<2.0,>=0.12 from https://files.pythonhosted.org/packages/05/b8/42ed91898d4784546c5f06c60506400548db3f7a4b3fb441cba4e5c17952/pluggy-1.3.0-py3-none-any.whl.metadata\n",
    "  Downloading pluggy-1.3.0-py3-none-any.whl.metadata (4.3 kB)\n",
    "Collecting exceptiongroup>=1.0.0rc8 (from pytest->dozent)\n",
    "  Obtaining dependency information for exceptiongroup>=1.0.0rc8 from https://files.pythonhosted.org/packages/ad/83/b71e58666f156a39fb29417e4c8ca4bc7400c0dd4ed9e8842ab54dc8c344/exceptiongroup-1.1.3-py3-none-any.whl.metadata\n",
    "  Downloading exceptiongroup-1.1.3-py3-none-any.whl.metadata (6.1 kB)\n",
    "Collecting tomli>=1.0.0 (from pytest->dozent)\n",
    "  Downloading tomli-2.0.1-py3-none-any.whl (12 kB)\n",
    "Collecting charset-normalizer<4,>=2 (from requests>=2.19->aria2p->dozent)\n",
    "  Obtaining dependency information for charset-normalizer<4,>=2 from https://files.pythonhosted.org/packages/9e/45/824835a9c165eae015eb7b4a875a581918b9fc96439f8d9a5ca0868f0b7d/charset_normalizer-3.3.0-cp39-cp39-manylinux_2_17_x86_64.manylinux2014_x86_64.whl.metadata\n",
    "  Downloading charset_normalizer-3.3.0-cp39-cp39-manylinux_2_17_x86_64.manylinux2014_x86_64.whl.metadata (32 kB)\n",
    "Collecting idna<4,>=2.5 (from requests>=2.19->aria2p->dozent)\n",
    "  Downloading idna-3.4-py3-none-any.whl (61 kB)\n",
    "     ━━━━━━━━━━━━━━━━━━━━━━━━━━━━━━━━━━━━━━━━ 61.5/61.5 kB 12.0 MB/s eta 0:00:00\n",
    "Collecting urllib3<3,>=1.21.1 (from requests>=2.19->aria2p->dozent)\n",
    "  Obtaining dependency information for urllib3<3,>=1.21.1 from https://files.pythonhosted.org/packages/26/40/9957270221b6d3e9a3b92fdfba80dd5c9661ff45a664b47edd5d00f707f5/urllib3-2.0.6-py3-none-any.whl.metadata\n",
    "  Downloading urllib3-2.0.6-py3-none-any.whl.metadata (6.6 kB)\n",
    "Collecting certifi>=2017.4.17 (from requests>=2.19->aria2p->dozent)\n",
    "  Obtaining dependency information for certifi>=2017.4.17 from https://files.pythonhosted.org/packages/4c/dd/2234eab22353ffc7d94e8d13177aaa050113286e93e7b40eae01fbf7c3d9/certifi-2023.7.22-py3-none-any.whl.metadata\n",
    "  Downloading certifi-2023.7.22-py3-none-any.whl.metadata (2.2 kB)\n",
    "Downloading humanize-4.8.0-py3-none-any.whl (117 kB)\n",
    "   ━━━━━━━━━━━━━━━━━━━━━━━━━━━━━━━━━━━━━━━━ 117.1/117.1 kB 18.7 MB/s eta 0:00:00\n",
    "Downloading numpy-1.26.0-cp39-cp39-manylinux_2_17_x86_64.manylinux2014_x86_64.whl (18.2 MB)\n",
    "   ━━━━━━━━━━━━━━━━━━━━━━━━━━━━━━━━━━━━━━━━ 18.2/18.2 MB 43.4 MB/s eta 0:00:00\n",
    "Downloading pyfiglet-1.0.2-py3-none-any.whl (1.1 MB)\n",
    "   ━━━━━━━━━━━━━━━━━━━━━━━━━━━━━━━━━━━━━━━━ 1.1/1.1 MB 48.4 MB/s eta 0:00:00\n",
    "Downloading pytest-7.4.2-py3-none-any.whl (324 kB)\n",
    "   ━━━━━━━━━━━━━━━━━━━━━━━━━━━━━━━━━━━━━━━━ 324.5/324.5 kB 38.4 MB/s eta 0:00:00\n",
    "Downloading exceptiongroup-1.1.3-py3-none-any.whl (14 kB)\n",
    "Downloading loguru-0.7.2-py3-none-any.whl (62 kB)\n",
    "   ━━━━━━━━━━━━━━━━━━━━━━━━━━━━━━━━━━━━━━━━ 62.5/62.5 kB 12.1 MB/s eta 0:00:00\n",
    "Downloading pluggy-1.3.0-py3-none-any.whl (18 kB)\n",
    "Downloading requests-2.31.0-py3-none-any.whl (62 kB)\n",
    "   ━━━━━━━━━━━━━━━━━━━━━━━━━━━━━━━━━━━━━━━━ 62.6/62.6 kB 11.3 MB/s eta 0:00:00\n",
    "Downloading websocket_client-1.6.4-py3-none-any.whl (57 kB)\n",
    "   ━━━━━━━━━━━━━━━━━━━━━━━━━━━━━━━━━━━━━━━━ 57.3/57.3 kB 11.3 MB/s eta 0:00:00\n",
    "Downloading packaging-23.2-py3-none-any.whl (53 kB)\n",
    "   ━━━━━━━━━━━━━━━━━━━━━━━━━━━━━━━━━━━━━━━━ 53.0/53.0 kB 8.8 MB/s eta 0:00:00\n",
    "Downloading certifi-2023.7.22-py3-none-any.whl (158 kB)\n",
    "   ━━━━━━━━━━━━━━━━━━━━━━━━━━━━━━━━━━━━━━━━ 158.3/158.3 kB 15.9 MB/s eta 0:00:00\n",
    "Downloading charset_normalizer-3.3.0-cp39-cp39-manylinux_2_17_x86_64.manylinux2014_x86_64.whl (138 kB)\n",
    "   ━━━━━━━━━━━━━━━━━━━━━━━━━━━━━━━━━━━━━━━━ 139.0/139.0 kB 21.1 MB/s eta 0:00:00\n",
    "Downloading urllib3-2.0.6-py3-none-any.whl (123 kB)\n",
    "   ━━━━━━━━━━━━━━━━━━━━━━━━━━━━━━━━━━━━━━━━ 123.8/123.8 kB 16.3 MB/s eta 0:00:00\n",
    "Installing collected packages: pySmartDL, appdirs, websocket-client, urllib3, tomli, toml, pyfiglet, pluggy, packaging, numpy, loguru, iniconfig, idna, humanize, exceptiongroup, charset-normalizer, certifi, requests, pytest, aria2p, dozent\n",
    "Successfully installed appdirs-1.4.4 aria2p-0.11.3 certifi-2023.7.22 charset-normalizer-3.3.0 dozent-1.0.1 exceptiongroup-1.1.3 humanize-4.8.0 idna-3.4 iniconfig-2.0.0 loguru-0.7.2 numpy-1.26.0 packaging-23.2 pluggy-1.3.0 pySmartDL-1.3.4 pyfiglet-1.0.2 pytest-7.4.2 requests-2.31.0 toml-0.10.2 tomli-2.0.1 urllib3-2.0.6 websocket-client-1.6.4\n",
    "(my_env) [ec2-user@ip-172-31-38-168 my_env]$ "
   ]
  },
  {
   "cell_type": "markdown",
   "id": "51324f54-8bb4-41e4-bfce-8214e022d04a",
   "metadata": {},
   "source": [
    "### Running 'dozent''s dry-run"
   ]
  },
  {
   "cell_type": "code",
   "execution_count": null,
   "id": "77655ec4-6014-4251-bd14-70f8e870413b",
   "metadata": {},
   "outputs": [],
   "source": [
    "(my_env) [ec2-user@ip-172-31-38-168 my_env]$ python -m dozent --dry-run\n",
    "Queueing Link https://dozent-tests.s3.amazonaws.com/test_500K.txt\n",
    "Queueing Link https://dozent-tests.s3.amazonaws.com/test_550K.txt\n",
    "Queueing Link https://dozent-tests.s3.amazonaws.com/test_600K.txt\n",
    "Queueing Link https://dozent-tests.s3.amazonaws.com/test_650K.txt\n",
    "\n",
    "> 488.00 KB / 2.25 MB @ 1.6 MB/s [####----------------] [ 20.33% ] 0 seconds left                                \n",
    "\n",
    "Download Time: 0:00:00.824172\n",
    "(my_env) [ec2-user@ip-172-31-38-168 my_env]$ cd lib/python3.9/site-packages/data\n",
    "(my_env) [ec2-user@ip-172-31-38-168 data]$ ls -la\n",
    "total 2320\n",
    "drwxr-xr-x.  2 ec2-user ec2-user     90 Oct 10 20:01 .\n",
    "drwxr-xr-x. 54 ec2-user ec2-user  16384 Oct 10 20:01 ..\n",
    "-rw-r--r--.  1 ec2-user ec2-user 512000 Oct 10 20:01 test_500K.txt\n",
    "-rw-r--r--.  1 ec2-user ec2-user 563200 Oct 10 20:01 test_550K.txt\n",
    "-rw-r--r--.  1 ec2-user ec2-user 614400 Oct 10 20:01 test_600K.txt\n",
    "-rw-r--r--.  1 ec2-user ec2-user 665600 Oct 10 20:01 test_650K.txt\n",
    "(my_env) [ec2-user@ip-172-31-38-168 data]$ "
   ]
  },
  {
   "cell_type": "markdown",
   "id": "aae03749-7a6b-4ae9-a720-5842b0f1bed8",
   "metadata": {},
   "source": [
    "### Downloading all tweets on 12th of May 2020"
   ]
  },
  {
   "cell_type": "code",
   "execution_count": null,
   "id": "a051fc22-57d8-4614-b3a6-5bf3dd2f7184",
   "metadata": {},
   "outputs": [],
   "source": [
    "(my_env) [ec2-user@ip-172-31-38-168 data]$ python -m dozent -s 2020-05-12 -e 2020-05-12\n",
    "<omitted>\n",
    "Download Time: 1:04:12.745465\n",
    "(my_env) [ec2-user@ip-172-31-38-168 data]$ ls -la\n",
    "total 2608272\n",
    "drwxr-xr-x.  2 ec2-user ec2-user        127 Oct 10 21:13 .\n",
    "drwxr-xr-x. 54 ec2-user ec2-user      16384 Oct 10 20:01 ..\n",
    "-rw-r--r--.  1 ec2-user ec2-user     512000 Oct 10 20:01 test_500K.txt\n",
    "-rw-r--r--.  1 ec2-user ec2-user     563200 Oct 10 20:01 test_550K.txt\n",
    "-rw-r--r--.  1 ec2-user ec2-user     614400 Oct 10 20:01 test_600K.txt\n",
    "-rw-r--r--.  1 ec2-user ec2-user     665600 Oct 10 20:01 test_650K.txt\n",
    "-rw-r--r--.  1 ec2-user ec2-user 2668492800 Oct 10 21:13 twitter_stream_2020_05_12.tar\n",
    "(my_env) [ec2-user@ip-172-31-38-168 data]$ "
   ]
  },
  {
   "cell_type": "markdown",
   "id": "fc19cfed-0d3d-4864-abe4-3b10d2205a27",
   "metadata": {},
   "source": [
    "### Deactivating the Python environment"
   ]
  },
  {
   "cell_type": "code",
   "execution_count": null,
   "id": "e3c509ad-021e-4ec1-b942-b23d688a6703",
   "metadata": {},
   "outputs": [],
   "source": [
    "(my_env) [ec2-user@ip-172-31-38-168 data]$ deactivate\n",
    "[ec2-user@ip-172-31-16-195 my_env]$ "
   ]
  },
  {
   "cell_type": "markdown",
   "id": "9a9a455b-aee7-450c-8132-35ab0cc4fed8",
   "metadata": {},
   "source": [
    "### Enabling the EC2 instance's access to S3 and transfering data to the 'laelgelctweets´ bucket\n",
    "- The access is given by attaching the role 'S3-Admin-Access' to the EC2 instance via the AWS Console"
   ]
  },
  {
   "cell_type": "code",
   "execution_count": null,
   "id": "2246ae2a-e807-45f8-84e4-663be6f65f10",
   "metadata": {},
   "outputs": [],
   "source": [
    "[ec2-user@ip-172-31-38-168 ~]$ aws s3 ls s3://laelgelctweets\n",
    "\n",
    "Unable to locate credentials. You can configure credentials by running \"aws configure\".\n",
    "[ec2-user@ip-172-31-38-168 ~]$ aws s3 ls s3://laelgelctweets\n",
    "[ec2-user@ip-172-31-38-168 ~]$ ls -la environments/my_env/lib/python3.9/site-packages/data/*.txt\n",
    "-rw-r--r--. 1 ec2-user ec2-user 512000 Oct 10 20:01 environments/my_env/lib/python3.9/site-packages/data/test_500K.txt\n",
    "-rw-r--r--. 1 ec2-user ec2-user 563200 Oct 10 20:01 environments/my_env/lib/python3.9/site-packages/data/test_550K.txt\n",
    "-rw-r--r--. 1 ec2-user ec2-user 614400 Oct 10 20:01 environments/my_env/lib/python3.9/site-packages/data/test_600K.txt\n",
    "-rw-r--r--. 1 ec2-user ec2-user 665600 Oct 10 20:01 environments/my_env/lib/python3.9/site-packages/data/test_650K.txt\n",
    "[ec2-user@ip-172-31-38-168 ~]$ aws s3 cp environments/my_env/lib/python3.9/site-packages/data/ s3://laelgelctweets/ --recursive --exclude \"*\" --include \"*.txt\"\n",
    "upload: environments/my_env/lib/python3.9/site-packages/data/test_500K.txt to s3://laelgelctweets/test_500K.txt\n",
    "upload: environments/my_env/lib/python3.9/site-packages/data/test_650K.txt to s3://laelgelctweets/test_650K.txt\n",
    "upload: environments/my_env/lib/python3.9/site-packages/data/test_600K.txt to s3://laelgelctweets/test_600K.txt\n",
    "upload: environments/my_env/lib/python3.9/site-packages/data/test_550K.txt to s3://laelgelctweets/test_550K.txt\n",
    "[ec2-user@ip-172-31-38-168 ~]$ aws s3 ls s3://laelgelctweets\n",
    "2023-10-10 21:01:29     512000 test_500K.txt\n",
    "2023-10-10 21:01:29     563200 test_550K.txt\n",
    "2023-10-10 21:01:29     614400 test_600K.txt\n",
    "2023-10-10 21:01:29     665600 test_650K.txt\n",
    "[ec2-user@ip-172-31-38-168 ~]$ "
   ]
  },
  {
   "cell_type": "markdown",
   "id": "dd730ed6-5dc6-47f2-954d-4e050ddf1d02",
   "metadata": {},
   "source": [
    "## Public read access can be configured at the bucket level via 'bucket policies'\n",
    "Reference: [Allow Public Read access to an AWS S3 Bucket](https://bobbyhadz.com/blog/aws-s3-allow-public-read-access)"
   ]
  },
  {
   "cell_type": "markdown",
   "id": "a0c546e1-3807-4f5f-b48c-632fc1721634",
   "metadata": {},
   "source": [
    "## Access to the test objects in the 'laelgelc' bucket\n",
    "- [test_500K.txt](https://laelgelctweets.s3.sa-east-1.amazonaws.com/test_500K.txt)\n",
    "- [test_550K.txt](https://laelgelctweets.s3.sa-east-1.amazonaws.com/test_550K.txt)\n",
    "- [test_600K.txt](https://laelgelctweets.s3.sa-east-1.amazonaws.com/test_600K.txt)\n",
    "- [test_650K.txt](https://laelgelctweets.s3.sa-east-1.amazonaws.com/test_650K.txt)\n",
    "- [lael_50_years_narrow_white.png.400px_300dpi.png](https://laelgelctweets.s3.sa-east-1.amazonaws.com/lael_50_years_narrow_white.png.400px_300dpi.png)"
   ]
  },
  {
   "cell_type": "code",
   "execution_count": null,
   "id": "94eb3613-de43-48af-93b1-2ec2bbfa0dd8",
   "metadata": {},
   "outputs": [],
   "source": []
  }
 ],
 "metadata": {
  "kernelspec": {
   "display_name": "anaconda-panel-2023.05-py310",
   "language": "python",
   "name": "conda-env-anaconda-panel-2023.05-py310-py"
  },
  "language_info": {
   "codemirror_mode": {
    "name": "ipython",
    "version": 3
   },
   "file_extension": ".py",
   "mimetype": "text/x-python",
   "name": "python",
   "nbconvert_exporter": "python",
   "pygments_lexer": "ipython3",
   "version": "3.11.5"
  }
 },
 "nbformat": 4,
 "nbformat_minor": 5
}
